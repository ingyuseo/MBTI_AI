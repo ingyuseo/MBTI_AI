{
  "cells": [
    {
      "cell_type": "code",
      "execution_count": null,
      "metadata": {
        "colab": {
          "base_uri": "https://localhost:8080/"
        },
        "id": "M3YaSFmmRqfx",
        "outputId": "41750594-485b-45ac-bfa6-70bd8d6e606f"
      },
      "outputs": [
        {
          "name": "stdout",
          "output_type": "stream",
          "text": [
            "Drive already mounted at /content/drive; to attempt to forcibly remount, call drive.mount(\"/content/drive\", force_remount=True).\n"
          ]
        }
      ],
      "source": [
        "from google.colab import drive\n",
        "drive.mount('/content/drive')"
      ]
    },
    {
      "cell_type": "code",
      "execution_count": null,
      "metadata": {
        "colab": {
          "base_uri": "https://localhost:8080/"
        },
        "id": "3n9zGLgvRrzx",
        "outputId": "0d6243d0-d18a-4e32-bfa5-b38e778b52c9"
      },
      "outputs": [
        {
          "output_type": "stream",
          "name": "stdout",
          "text": [
            "/content/drive/MyDrive/MBTI_Music\n"
          ]
        }
      ],
      "source": [
        "cd /content/drive/MyDrive/MBTI_Music"
      ]
    },
    {
      "cell_type": "markdown",
      "metadata": {
        "id": "M-45SdunnIaw"
      },
      "source": [
        "## Library"
      ]
    },
    {
      "cell_type": "code",
      "execution_count": null,
      "metadata": {
        "id": "G3rwcx-9nHxh"
      },
      "outputs": [],
      "source": [
        "import torch\n",
        "from torch.utils.data import Dataset, DataLoader, random_split,Subset\n",
        "import os\n",
        "import librosa\n",
        "import numpy as np\n",
        "import torch.nn as nn\n",
        "import time\n",
        "import torch.nn.functional as F\n",
        "import torchaudio\n",
        "import torchaudio.transforms as transforms\n",
        "from torchaudio.transforms import MFCC\n",
        "import random\n",
        "from torch.nn import TransformerDecoder, TransformerDecoderLayer\n",
        "from torch.nn import TransformerEncoder, TransformerEncoderLayer\n",
        "from torch.optim.lr_scheduler import ReduceLROnPlateau\n",
        "\n",
        "\n",
        "seed = 2024\n",
        "random.seed(seed)\n",
        "np.random.seed(seed)\n"
      ]
    },
    {
      "cell_type": "markdown",
      "metadata": {
        "id": "RAXPJEEvnK2o"
      },
      "source": [
        "## Dataset, loader"
      ]
    },
    {
      "cell_type": "code",
      "execution_count": null,
      "metadata": {
        "colab": {
          "base_uri": "https://localhost:8080/",
          "height": 375
        },
        "id": "fIlM8O2_VWcw",
        "outputId": "52c9a5bf-4a51-43f1-a6a1-dea652f5025c"
      },
      "outputs": [
        {
          "name": "stdout",
          "output_type": "stream",
          "text": [
            "1\n",
            "2\n"
          ]
        },
        {
          "ename": "KeyboardInterrupt",
          "evalue": "",
          "output_type": "error",
          "traceback": [
            "\u001b[0;31m---------------------------------------------------------------------------\u001b[0m",
            "\u001b[0;31mKeyboardInterrupt\u001b[0m                         Traceback (most recent call last)",
            "\u001b[0;32m<ipython-input-3-78ff609069db>\u001b[0m in \u001b[0;36m<cell line: 62>\u001b[0;34m()\u001b[0m\n\u001b[1;32m     60\u001b[0m \u001b[0mroot_dir\u001b[0m \u001b[0;34m=\u001b[0m \u001b[0;34m'./songs'\u001b[0m  \u001b[0;31m# 오디오 파일이 위치한 디렉토리 경로를 설정하세요.\u001b[0m\u001b[0;34m\u001b[0m\u001b[0;34m\u001b[0m\u001b[0m\n\u001b[1;32m     61\u001b[0m \u001b[0mpreprocessor\u001b[0m \u001b[0;34m=\u001b[0m \u001b[0mMyDatasetPreprocessor\u001b[0m\u001b[0;34m(\u001b[0m\u001b[0mroot_dir\u001b[0m\u001b[0;34m)\u001b[0m\u001b[0;34m\u001b[0m\u001b[0;34m\u001b[0m\u001b[0m\n\u001b[0;32m---> 62\u001b[0;31m \u001b[0mpreprocessor\u001b[0m\u001b[0;34m.\u001b[0m\u001b[0mpreprocess_and_save\u001b[0m\u001b[0;34m(\u001b[0m\u001b[0;34m)\u001b[0m\u001b[0;34m\u001b[0m\u001b[0;34m\u001b[0m\u001b[0m\n\u001b[0m",
            "\u001b[0;32m<ipython-input-3-78ff609069db>\u001b[0m in \u001b[0;36mpreprocess_and_save\u001b[0;34m(self)\u001b[0m\n\u001b[1;32m     27\u001b[0m                         \u001b[0mmbti_labels\u001b[0m\u001b[0;34m.\u001b[0m\u001b[0mappend\u001b[0m\u001b[0;34m(\u001b[0m\u001b[0mnp\u001b[0m\u001b[0;34m.\u001b[0m\u001b[0marray\u001b[0m\u001b[0;34m(\u001b[0m\u001b[0;34m[\u001b[0m\u001b[0;36m1.0\u001b[0m \u001b[0;32mif\u001b[0m \u001b[0mmbti_type\u001b[0m \u001b[0;34m==\u001b[0m \u001b[0mdir_name\u001b[0m \u001b[0;32melse\u001b[0m \u001b[0;36m0.4\u001b[0m \u001b[0;32mfor\u001b[0m \u001b[0mmbti_type\u001b[0m \u001b[0;32min\u001b[0m \u001b[0mmbti_types\u001b[0m\u001b[0;34m]\u001b[0m\u001b[0;34m,\u001b[0m \u001b[0mdtype\u001b[0m\u001b[0;34m=\u001b[0m\u001b[0mnp\u001b[0m\u001b[0;34m.\u001b[0m\u001b[0mfloat32\u001b[0m\u001b[0;34m)\u001b[0m\u001b[0;34m.\u001b[0m\u001b[0mreshape\u001b[0m\u001b[0;34m(\u001b[0m\u001b[0;34m-\u001b[0m\u001b[0;36m1\u001b[0m\u001b[0;34m,\u001b[0m \u001b[0;36m1\u001b[0m\u001b[0;34m)\u001b[0m\u001b[0;34m)\u001b[0m\u001b[0;34m\u001b[0m\u001b[0;34m\u001b[0m\u001b[0m\n\u001b[1;32m     28\u001b[0m \u001b[0;34m\u001b[0m\u001b[0m\n\u001b[0;32m---> 29\u001b[0;31m                         \u001b[0mwaveform\u001b[0m\u001b[0;34m,\u001b[0m \u001b[0msr\u001b[0m \u001b[0;34m=\u001b[0m \u001b[0mtorchaudio\u001b[0m\u001b[0;34m.\u001b[0m\u001b[0mload\u001b[0m\u001b[0;34m(\u001b[0m\u001b[0mfile_path\u001b[0m\u001b[0;34m)\u001b[0m\u001b[0;34m\u001b[0m\u001b[0;34m\u001b[0m\u001b[0m\n\u001b[0m\u001b[1;32m     30\u001b[0m                         \u001b[0mwaveform\u001b[0m \u001b[0;34m=\u001b[0m \u001b[0mtorchaudio\u001b[0m\u001b[0;34m.\u001b[0m\u001b[0mtransforms\u001b[0m\u001b[0;34m.\u001b[0m\u001b[0mResample\u001b[0m\u001b[0;34m(\u001b[0m\u001b[0morig_freq\u001b[0m\u001b[0;34m=\u001b[0m\u001b[0msr\u001b[0m\u001b[0;34m,\u001b[0m \u001b[0mnew_freq\u001b[0m\u001b[0;34m=\u001b[0m\u001b[0mself\u001b[0m\u001b[0;34m.\u001b[0m\u001b[0msample_rate\u001b[0m\u001b[0;34m)\u001b[0m\u001b[0;34m(\u001b[0m\u001b[0mwaveform\u001b[0m\u001b[0;34m)\u001b[0m\u001b[0;34m\u001b[0m\u001b[0;34m\u001b[0m\u001b[0m\n\u001b[1;32m     31\u001b[0m \u001b[0;34m\u001b[0m\u001b[0m\n",
            "\u001b[0;32m/usr/local/lib/python3.10/dist-packages/torchaudio/_backend/utils.py\u001b[0m in \u001b[0;36mload\u001b[0;34m(uri, frame_offset, num_frames, normalize, channels_first, format, buffer_size, backend)\u001b[0m\n\u001b[1;32m    203\u001b[0m         \"\"\"\n\u001b[1;32m    204\u001b[0m         \u001b[0mbackend\u001b[0m \u001b[0;34m=\u001b[0m \u001b[0mdispatcher\u001b[0m\u001b[0;34m(\u001b[0m\u001b[0muri\u001b[0m\u001b[0;34m,\u001b[0m \u001b[0mformat\u001b[0m\u001b[0;34m,\u001b[0m \u001b[0mbackend\u001b[0m\u001b[0;34m)\u001b[0m\u001b[0;34m\u001b[0m\u001b[0;34m\u001b[0m\u001b[0m\n\u001b[0;32m--> 205\u001b[0;31m         \u001b[0;32mreturn\u001b[0m \u001b[0mbackend\u001b[0m\u001b[0;34m.\u001b[0m\u001b[0mload\u001b[0m\u001b[0;34m(\u001b[0m\u001b[0muri\u001b[0m\u001b[0;34m,\u001b[0m \u001b[0mframe_offset\u001b[0m\u001b[0;34m,\u001b[0m \u001b[0mnum_frames\u001b[0m\u001b[0;34m,\u001b[0m \u001b[0mnormalize\u001b[0m\u001b[0;34m,\u001b[0m \u001b[0mchannels_first\u001b[0m\u001b[0;34m,\u001b[0m \u001b[0mformat\u001b[0m\u001b[0;34m,\u001b[0m \u001b[0mbuffer_size\u001b[0m\u001b[0;34m)\u001b[0m\u001b[0;34m\u001b[0m\u001b[0;34m\u001b[0m\u001b[0m\n\u001b[0m\u001b[1;32m    206\u001b[0m \u001b[0;34m\u001b[0m\u001b[0m\n\u001b[1;32m    207\u001b[0m     \u001b[0;32mreturn\u001b[0m \u001b[0mload\u001b[0m\u001b[0;34m\u001b[0m\u001b[0;34m\u001b[0m\u001b[0m\n",
            "\u001b[0;32m/usr/local/lib/python3.10/dist-packages/torchaudio/_backend/ffmpeg.py\u001b[0m in \u001b[0;36mload\u001b[0;34m(uri, frame_offset, num_frames, normalize, channels_first, format, buffer_size)\u001b[0m\n\u001b[1;32m    295\u001b[0m         \u001b[0mbuffer_size\u001b[0m\u001b[0;34m:\u001b[0m \u001b[0mint\u001b[0m \u001b[0;34m=\u001b[0m \u001b[0;36m4096\u001b[0m\u001b[0;34m,\u001b[0m\u001b[0;34m\u001b[0m\u001b[0;34m\u001b[0m\u001b[0m\n\u001b[1;32m    296\u001b[0m     ) -> Tuple[torch.Tensor, int]:\n\u001b[0;32m--> 297\u001b[0;31m         \u001b[0;32mreturn\u001b[0m \u001b[0mload_audio\u001b[0m\u001b[0;34m(\u001b[0m\u001b[0muri\u001b[0m\u001b[0;34m,\u001b[0m \u001b[0mframe_offset\u001b[0m\u001b[0;34m,\u001b[0m \u001b[0mnum_frames\u001b[0m\u001b[0;34m,\u001b[0m \u001b[0mnormalize\u001b[0m\u001b[0;34m,\u001b[0m \u001b[0mchannels_first\u001b[0m\u001b[0;34m,\u001b[0m \u001b[0mformat\u001b[0m\u001b[0;34m)\u001b[0m\u001b[0;34m\u001b[0m\u001b[0;34m\u001b[0m\u001b[0m\n\u001b[0m\u001b[1;32m    298\u001b[0m \u001b[0;34m\u001b[0m\u001b[0m\n\u001b[1;32m    299\u001b[0m     \u001b[0;34m@\u001b[0m\u001b[0mstaticmethod\u001b[0m\u001b[0;34m\u001b[0m\u001b[0;34m\u001b[0m\u001b[0m\n",
            "\u001b[0;32m/usr/local/lib/python3.10/dist-packages/torchaudio/_backend/ffmpeg.py\u001b[0m in \u001b[0;36mload_audio\u001b[0;34m(src, frame_offset, num_frames, convert, channels_first, format, buffer_size)\u001b[0m\n\u001b[1;32m     86\u001b[0m     \u001b[0;32mif\u001b[0m \u001b[0mhasattr\u001b[0m\u001b[0;34m(\u001b[0m\u001b[0msrc\u001b[0m\u001b[0;34m,\u001b[0m \u001b[0;34m\"read\"\u001b[0m\u001b[0;34m)\u001b[0m \u001b[0;32mand\u001b[0m \u001b[0mformat\u001b[0m \u001b[0;34m==\u001b[0m \u001b[0;34m\"vorbis\"\u001b[0m\u001b[0;34m:\u001b[0m\u001b[0;34m\u001b[0m\u001b[0;34m\u001b[0m\u001b[0m\n\u001b[1;32m     87\u001b[0m         \u001b[0mformat\u001b[0m \u001b[0;34m=\u001b[0m \u001b[0;34m\"ogg\"\u001b[0m\u001b[0;34m\u001b[0m\u001b[0;34m\u001b[0m\u001b[0m\n\u001b[0;32m---> 88\u001b[0;31m     \u001b[0ms\u001b[0m \u001b[0;34m=\u001b[0m \u001b[0mtorchaudio\u001b[0m\u001b[0;34m.\u001b[0m\u001b[0mio\u001b[0m\u001b[0;34m.\u001b[0m\u001b[0mStreamReader\u001b[0m\u001b[0;34m(\u001b[0m\u001b[0msrc\u001b[0m\u001b[0;34m,\u001b[0m \u001b[0mformat\u001b[0m\u001b[0;34m,\u001b[0m \u001b[0;32mNone\u001b[0m\u001b[0;34m,\u001b[0m \u001b[0mbuffer_size\u001b[0m\u001b[0;34m)\u001b[0m\u001b[0;34m\u001b[0m\u001b[0;34m\u001b[0m\u001b[0m\n\u001b[0m\u001b[1;32m     89\u001b[0m     \u001b[0msample_rate\u001b[0m \u001b[0;34m=\u001b[0m \u001b[0mint\u001b[0m\u001b[0;34m(\u001b[0m\u001b[0ms\u001b[0m\u001b[0;34m.\u001b[0m\u001b[0mget_src_stream_info\u001b[0m\u001b[0;34m(\u001b[0m\u001b[0ms\u001b[0m\u001b[0;34m.\u001b[0m\u001b[0mdefault_audio_stream\u001b[0m\u001b[0;34m)\u001b[0m\u001b[0;34m.\u001b[0m\u001b[0msample_rate\u001b[0m\u001b[0;34m)\u001b[0m\u001b[0;34m\u001b[0m\u001b[0;34m\u001b[0m\u001b[0m\n\u001b[1;32m     90\u001b[0m     \u001b[0mfilter\u001b[0m \u001b[0;34m=\u001b[0m \u001b[0m_get_load_filter\u001b[0m\u001b[0;34m(\u001b[0m\u001b[0mframe_offset\u001b[0m\u001b[0;34m,\u001b[0m \u001b[0mnum_frames\u001b[0m\u001b[0;34m,\u001b[0m \u001b[0mconvert\u001b[0m\u001b[0;34m)\u001b[0m\u001b[0;34m\u001b[0m\u001b[0;34m\u001b[0m\u001b[0m\n",
            "\u001b[0;32m/usr/local/lib/python3.10/dist-packages/torio/io/_streaming_media_decoder.py\u001b[0m in \u001b[0;36m__init__\u001b[0;34m(self, src, format, option, buffer_size)\u001b[0m\n\u001b[1;32m    524\u001b[0m             \u001b[0mself\u001b[0m\u001b[0;34m.\u001b[0m\u001b[0m_be\u001b[0m \u001b[0;34m=\u001b[0m \u001b[0mffmpeg_ext\u001b[0m\u001b[0;34m.\u001b[0m\u001b[0mStreamingMediaDecoderFileObj\u001b[0m\u001b[0;34m(\u001b[0m\u001b[0msrc\u001b[0m\u001b[0;34m,\u001b[0m \u001b[0mformat\u001b[0m\u001b[0;34m,\u001b[0m \u001b[0moption\u001b[0m\u001b[0;34m,\u001b[0m \u001b[0mbuffer_size\u001b[0m\u001b[0;34m)\u001b[0m\u001b[0;34m\u001b[0m\u001b[0;34m\u001b[0m\u001b[0m\n\u001b[1;32m    525\u001b[0m         \u001b[0;32melse\u001b[0m\u001b[0;34m:\u001b[0m\u001b[0;34m\u001b[0m\u001b[0;34m\u001b[0m\u001b[0m\n\u001b[0;32m--> 526\u001b[0;31m             \u001b[0mself\u001b[0m\u001b[0;34m.\u001b[0m\u001b[0m_be\u001b[0m \u001b[0;34m=\u001b[0m \u001b[0mffmpeg_ext\u001b[0m\u001b[0;34m.\u001b[0m\u001b[0mStreamingMediaDecoder\u001b[0m\u001b[0;34m(\u001b[0m\u001b[0mos\u001b[0m\u001b[0;34m.\u001b[0m\u001b[0mpath\u001b[0m\u001b[0;34m.\u001b[0m\u001b[0mnormpath\u001b[0m\u001b[0;34m(\u001b[0m\u001b[0msrc\u001b[0m\u001b[0;34m)\u001b[0m\u001b[0;34m,\u001b[0m \u001b[0mformat\u001b[0m\u001b[0;34m,\u001b[0m \u001b[0moption\u001b[0m\u001b[0;34m)\u001b[0m\u001b[0;34m\u001b[0m\u001b[0;34m\u001b[0m\u001b[0m\n\u001b[0m\u001b[1;32m    527\u001b[0m \u001b[0;34m\u001b[0m\u001b[0m\n\u001b[1;32m    528\u001b[0m         \u001b[0mi\u001b[0m \u001b[0;34m=\u001b[0m \u001b[0mself\u001b[0m\u001b[0;34m.\u001b[0m\u001b[0m_be\u001b[0m\u001b[0;34m.\u001b[0m\u001b[0mfind_best_audio_stream\u001b[0m\u001b[0;34m(\u001b[0m\u001b[0;34m)\u001b[0m\u001b[0;34m\u001b[0m\u001b[0;34m\u001b[0m\u001b[0m\n",
            "\u001b[0;31mKeyboardInterrupt\u001b[0m: "
          ]
        }
      ],
      "source": [
        "class MyDatasetPreprocessor:\n",
        "    def __init__(self, root_dir, max_frame=6000, sample_rate=8000):\n",
        "        self.root_dir = root_dir\n",
        "        self.max_frame = max_frame\n",
        "        self.sample_rate = sample_rate\n",
        "\n",
        "    def preprocess_and_save(self):\n",
        "        mfccs = []\n",
        "        labels = []\n",
        "        cnt =0\n",
        "\n",
        "        # MBTI 타입에 따른 레이블 생성\n",
        "        mbti_types = [\"INTP\", \"INTJ\", \"INFP\", \"INFJ\", \"ISTP\", \"ISTJ\", \"ISFP\", \"ISFJ\",\n",
        "                      \"ENTP\", \"ENTJ\", \"ENFP\", \"ENFJ\", \"ESTP\", \"ESTJ\", \"ESFP\", \"ESFJ\"]\n",
        "\n",
        "        mbti_labels = []\n",
        "        label_dict = {mbti: i for i, mbti in enumerate(mbti_types)}\n",
        "\n",
        "        for dir_name in os.listdir(self.root_dir):\n",
        "            dir_path = os.path.join(self.root_dir, dir_name)\n",
        "            if os.path.isdir(dir_path):\n",
        "                for filename in os.listdir(dir_path):\n",
        "                    if filename.endswith('.flac'):\n",
        "                        file_path = os.path.join(dir_path, filename)\n",
        "\n",
        "                        mbti_labels = []\n",
        "                        mbti_labels.append(np.array([1.0 if mbti_type == dir_name else 0.4 for mbti_type in mbti_types], dtype=np.float32).reshape(-1, 1))\n",
        "\n",
        "                        waveform, sr = torchaudio.load(file_path)\n",
        "                        waveform = torchaudio.transforms.Resample(orig_freq=sr, new_freq=self.sample_rate)(waveform)\n",
        "\n",
        "                        # 스테레오 오디오를 모노로 변환\n",
        "                        if waveform.size(0) > 1:\n",
        "                            waveform = torch.mean(waveform, dim=0, keepdim=True)\n",
        "\n",
        "                        # MFCC 변환 설정 및 계산\n",
        "                        mfcc_transform = MFCC(sample_rate=self.sample_rate, n_mfcc=20)\n",
        "                        mfcc = mfcc_transform(waveform)\n",
        "\n",
        "                        # 최대 프레임 길이로 조정\n",
        "                        if mfcc.size(-1) > self.max_frame:\n",
        "                            mfcc = mfcc[:, :, :self.max_frame]\n",
        "                        elif mfcc.size(-1) < self.max_frame:\n",
        "                            mfcc = torch.nn.functional.pad(mfcc, (0, self.max_frame - mfcc.size(-1)))\n",
        "\n",
        "                        mfccs.append(mfcc.squeeze())  # 차원 축소\n",
        "                        labels.append(mbti_labels)  # 레이블 할당\n",
        "                        cnt += 1\n",
        "                        print(cnt)\n",
        "\n",
        "        # 리스트를 텐서로 변환\n",
        "        mfccs_tensor = torch.stack(mfccs)\n",
        "        labels_tensor = torch.tensor(labels, dtype=torch.float32)\n",
        "\n",
        "        # 파일로 저장\n",
        "        torch.save(mfccs_tensor, 'mfccs.pt')\n",
        "        torch.save(labels_tensor, 'labels.pt')\n",
        "\n",
        "# 사용 예:\n",
        "root_dir = './songs'  # 오디오 파일이 위치한 디렉토리 경로를 설정하세요.\n",
        "preprocessor = MyDatasetPreprocessor(root_dir)\n",
        "preprocessor.preprocess_and_save()"
      ]
    },
    {
      "cell_type": "code",
      "execution_count": null,
      "metadata": {
        "id": "13RWf5ubVlEJ",
        "colab": {
          "base_uri": "https://localhost:8080/"
        },
        "outputId": "e53615a1-6b98-44ce-95e1-31d7d207b9d7"
      },
      "outputs": [
        {
          "output_type": "stream",
          "name": "stdout",
          "text": [
            "Total dataset size: 1600\n",
            "Train dataset size: 1280\n",
            "Test dataset size: 160\n",
            "Valid dataset size: 160\n"
          ]
        }
      ],
      "source": [
        "class PreprocessedDataset(Dataset):\n",
        "    def __init__(self, mfccs_file, labels_file):\n",
        "        self.mfccs = torch.load(mfccs_file)\n",
        "        self.labels = torch.load(labels_file)\n",
        "\n",
        "    def __len__(self):\n",
        "        return len(self.mfccs)\n",
        "\n",
        "    def __getitem__(self, idx):\n",
        "        return self.mfccs[idx], self.labels[idx]\n",
        "\n",
        "def balanced_split(dataset, num_classes=16, num_samples_per_class=10):\n",
        "    # 각 클래스별 인덱스 초기화\n",
        "    indices_per_class = {i: [] for i in range(num_classes)}\n",
        "\n",
        "    # 데이터셋을 순회하며 각 클래스별 인덱스 수집\n",
        "    for idx, (data, label) in enumerate(dataset):\n",
        "        class_idx = label.argmax().item()  # 최대값을 가진 인덱스를 클래스 인덱스로 사용\n",
        "        indices_per_class[class_idx].append(idx)\n",
        "\n",
        "    # 각 클래스에서 동일한 수의 샘플 선택\n",
        "    test_indices = []\n",
        "    valid_indices = []\n",
        "    for indices in indices_per_class.values():\n",
        "        # 인덱스를 무작위로 섞음\n",
        "        np.random.shuffle(indices)\n",
        "        test_indices.extend(indices[:num_samples_per_class])\n",
        "        valid_indices.extend(indices[num_samples_per_class:2*num_samples_per_class])\n",
        "\n",
        "    # 남은 인덱스는 훈련 데이터셋으로 사용\n",
        "    remaining_indices = list(set(range(len(dataset))) - set(test_indices) - set(valid_indices))\n",
        "\n",
        "    return remaining_indices, test_indices, valid_indices\n",
        "\n",
        "mfccs_file = 'mfccs.pt'\n",
        "labels_file = 'labels.pt'\n",
        "\n",
        "# 데이터셋 인스턴스 생성\n",
        "dataset = PreprocessedDataset(mfccs_file, labels_file)\n",
        "\n",
        "# 균형 잡힌 데이터셋 분할\n",
        "train_indices, test_indices, valid_indices = balanced_split(dataset)\n",
        "\n",
        "# Subset을 사용하여 실제 데이터셋 생성\n",
        "train_dataset = Subset(dataset, train_indices)\n",
        "test_dataset = Subset(dataset, test_indices)\n",
        "valid_dataset = Subset(dataset, valid_indices)\n",
        "\n",
        "# DataLoader 인스턴스 생성\n",
        "train_loader = DataLoader(train_dataset, batch_size=16, shuffle=True)\n",
        "test_loader = DataLoader(test_dataset, batch_size=16, shuffle=True)\n",
        "valid_loader = DataLoader(valid_dataset, batch_size=16, shuffle=False)\n",
        "\n",
        "print(f'Total dataset size: {len(dataset)}')\n",
        "print(f'Train dataset size: {len(train_dataset)}')\n",
        "print(f'Test dataset size: {len(test_dataset)}')\n",
        "print(f'Valid dataset size: {len(valid_dataset)}')"
      ]
    },
    {
      "cell_type": "code",
      "execution_count": null,
      "metadata": {
        "colab": {
          "base_uri": "https://localhost:8080/"
        },
        "id": "j8Ruh-_ShdVr",
        "outputId": "f0a701f0-6e09-49c0-b494-84e75a513a62"
      },
      "outputs": [
        {
          "output_type": "stream",
          "name": "stdout",
          "text": [
            "tensor([[-4.8810e+02, -4.8810e+02, -4.8810e+02,  ..., -7.6499e+01,\n",
            "          2.3328e+01,  1.0318e+01],\n",
            "        [ 2.0316e-05,  2.0316e-05,  2.0316e-05,  ...,  9.1295e+01,\n",
            "          1.2522e+02,  1.2659e+02],\n",
            "        [-1.6093e-05, -1.6093e-05, -1.6093e-05,  ...,  3.7107e+00,\n",
            "          4.5896e+00,  4.6499e-01],\n",
            "        ...,\n",
            "        [ 7.9156e-05,  7.9156e-05,  7.9156e-05,  ..., -8.8106e+00,\n",
            "         -2.0668e+00, -8.8080e+00],\n",
            "        [ 3.6753e-05,  3.6753e-05,  3.6753e-05,  ..., -2.0987e+01,\n",
            "         -4.0327e+00, -1.3651e+01],\n",
            "        [ 5.6933e-06,  5.6933e-06,  5.6933e-06,  ...,  4.8262e+00,\n",
            "         -4.5475e+00, -9.5937e+00]])\n",
            "10\n"
          ]
        }
      ],
      "source": [
        "a,b = train_dataset[289]\n",
        "\n",
        "print(a)\n",
        "\n",
        "print(len(valid_loader))\n",
        "\n"
      ]
    },
    {
      "cell_type": "markdown",
      "metadata": {
        "id": "uVbMbeFBnN94"
      },
      "source": [
        "## Model"
      ]
    },
    {
      "cell_type": "code",
      "execution_count": null,
      "metadata": {
        "id": "WsgBZmckX7iY"
      },
      "outputs": [],
      "source": [
        "class CustomMBTIDecoder(nn.Module):\n",
        "    def __init__(self, model_dim, num_heads, num_layers, input_seq_len):\n",
        "        super(CustomMBTIDecoder, self).__init__()\n",
        "        self.transformer_decoder = TransformerDecoder(\n",
        "            TransformerDecoderLayer(d_model=model_dim, nhead=num_heads, batch_first=True),\n",
        "            num_layers=num_layers\n",
        "        )\n",
        "        # Flatten 레이어는 기본적으로 필요하지 않습니다; 여기서는 seq_len과 model_dim을 곱합니다.\n",
        "        self.fc_layers = nn.Sequential(\n",
        "            nn.Linear(input_seq_len * model_dim, 2048),\n",
        "            nn.ReLU(),\n",
        "            nn.Linear(2048, 512),\n",
        "            nn.ReLU(),\n",
        "            nn.Linear(512, 1),\n",
        "            nn.Sigmoid()  # MBTI 선호도를 0과 1 사이의 값으로 출력\n",
        "        )\n",
        "\n",
        "    def forward(self, tgt, memory):\n",
        "        # Decoder는 memory와 함께 tgt를 처리합니다.\n",
        "        decoder_output = self.transformer_decoder(tgt, memory)\n",
        "        # 출력을 적절한 차원으로 변환합니다.\n",
        "        flattened_output = decoder_output.view(decoder_output.size(0), -1)\n",
        "        # 완전 연결 레이어를 통과합니다.\n",
        "        return self.fc_layers(flattened_output)"
      ]
    },
    {
      "cell_type": "code",
      "execution_count": null,
      "metadata": {
        "id": "9h4DKkPS6VbO"
      },
      "outputs": [],
      "source": [
        "class MusicPreferenceTransformer(nn.Module):\n",
        "    def __init__(self, input_dim, model_dim, num_heads, num_layers, num_mbti_types=16):\n",
        "        super().__init__()\n",
        "        self.input_dim = input_dim  # 입력 차원\n",
        "        self.model_dim = model_dim  # 모델 차원\n",
        "        self.num_heads = num_heads  # 어텐션 헤드의 개수\n",
        "        self.num_layers = num_layers  # 트랜스포머 레이어의 개수\n",
        "        self.num_mbti_types = num_mbti_types  # MBTI 유형의 개수\n",
        "\n",
        "        # 인코더: 특성 임베딩과 트랜스포머 인코더 레이어\n",
        "        self.feature_embedding = nn.Linear(input_dim, model_dim)  # 특성 임베딩\n",
        "        encoder_layer = TransformerEncoderLayer(d_model=model_dim, nhead=num_heads, batch_first=True)  # 인코더 레이어\n",
        "        self.transformer_encoder = TransformerEncoder(encoder_layer, num_layers=num_layers)  # 트랜스포머 인코더\n",
        "\n",
        "        self.mbti_decoders = nn.ModuleList([\n",
        "    CustomMBTIDecoder(model_dim=model_dim, num_heads=num_heads, num_layers=num_layers, input_seq_len=16)\n",
        "    for _ in range(num_mbti_types)\n",
        "])\n",
        "\n",
        "        # 임시적인 디코더 입력 생성을 위한 임베딩 레이어\n",
        "        self.decoder_input_embedding = nn.Parameter(torch.randn(16, model_dim))\n",
        "\n",
        "    def forward(self, x):\n",
        "        # x의 형태: [batch_size, sequence_length, input_dim] 로\n",
        "        x = x.permute(0,2,1)\n",
        "        x = self.feature_embedding(x)  # [B, 6000, model_dim] : frame\n",
        "\n",
        "        # 특성 인코딩\n",
        "        memory = self.transformer_encoder(x)  # [sequence_length, batch_size, model_dim]\n",
        "        memory = memory.permute(1, 0, 2)  # [batch_size, sequence_length, model_dim]\n",
        "        #print(memory.shape)\n",
        "\n",
        "        # 디코더 입력\n",
        "        tgt = self.decoder_input_embedding.expand(memory.size(0), -1, self.model_dim)  # [batch_size, 1, model_dim]\n",
        "\n",
        "        # 각 MBTI 타입에 대한 선호도 디코드\n",
        "        mbti_preferences = [decoder(tgt, memory) for decoder in self.mbti_decoders]\n",
        "        mbti_preferences = torch.stack(mbti_preferences, dim=-1).squeeze(2)  # [batch_size, num_mbti_types]\n",
        "\n",
        "        return mbti_preferences"
      ]
    },
    {
      "cell_type": "code",
      "execution_count": null,
      "metadata": {
        "id": "Yx6_kHkWAUnk"
      },
      "outputs": [],
      "source": [
        "class MusicPreferenceTransformer(nn.Module):\n",
        "    def __init__(self, input_dim, model_dim, num_heads, num_layers, num_mbti_types=16, seq_len=6000):\n",
        "        super(MusicPreferenceTransformer, self).__init__()\n",
        "        self.input_dim = input_dim\n",
        "        self.model_dim = model_dim\n",
        "        self.num_heads = num_heads\n",
        "        self.num_layers = num_layers\n",
        "        self.num_mbti_types = num_mbti_types\n",
        "        self.seq_len = seq_len\n",
        "\n",
        "        self.feature_embedding = nn.Linear(input_dim, model_dim)\n",
        "        encoder_layer = TransformerEncoderLayer(d_model=model_dim, nhead=num_heads, batch_first=True)\n",
        "        self.transformer_encoder = TransformerEncoder(encoder_layer, num_layers=num_layers)\n",
        "\n",
        "        self.mbti_decoders = nn.ModuleList([\n",
        "            nn.Sequential(\n",
        "                nn.Linear(model_dim, model_dim),\n",
        "                nn.ReLU(),\n",
        "                nn.Linear(model_dim, 1),\n",
        "                nn.ReLU()\n",
        "            ) for _ in range(num_mbti_types)\n",
        "        ])\n",
        "\n",
        "        #  각 시퀀스 점수 통합\n",
        "        self.sequence_integration = nn.ModuleList([\n",
        "            nn.Sequential(\n",
        "                nn.Linear(self.seq_len, model_dim),\n",
        "                nn.ReLU(),\n",
        "                nn.Linear(model_dim, 1),\n",
        "                nn.Sigmoid()\n",
        "            ) for _ in range(num_mbti_types)\n",
        "        ])\n",
        "\n",
        "    def forward(self, x):\n",
        "        # x: [batch_size, input_dim, seq_len]\n",
        "        x = x.permute(0, 2, 1)\n",
        "        x = self.feature_embedding(x)  # [batch_size, seq_len, model_dim]\n",
        "        x = self.transformer_encoder(x)  # [batch_size, seq_len, model_dim]\n",
        "\n",
        "        # 각 MBTI 타입에 대한 선호도 계산\n",
        "        mbti_preferences = [decoder(x) for decoder in self.mbti_decoders]  # List of [batch_size, seq_len, 1]\n",
        "        mbti_preferences = torch.cat(mbti_preferences, dim=-1)  # [batch_size, seq_len, num_mbti_types]\n",
        "\n",
        "        # 시퀀스에 대한 점수를 하나의 점수로 통합\n",
        "        mbti_preferences = mbti_preferences.permute(0, 2, 1)  # [batch_size, num_mbti_types, seq_len]\n",
        "\n",
        "        mbti_scores = []\n",
        "        for i, integrator in enumerate(self.sequence_integration):\n",
        "          integrated_score = integrator(mbti_preferences[:, i, :])  # Process each MBTI type separately\n",
        "          mbti_scores.append(integrated_score)\n",
        "\n",
        "        mbti_scores = torch.cat(mbti_scores, dim=1)  # [batch_size, num_mbti_types]\n",
        "\n",
        "        return mbti_scores\n"
      ]
    },
    {
      "cell_type": "markdown",
      "metadata": {
        "id": "VYAHv9aPnUuI"
      },
      "source": [
        "## Training and Inference"
      ]
    },
    {
      "cell_type": "code",
      "execution_count": null,
      "metadata": {
        "id": "8JI543Fh5AJB"
      },
      "outputs": [],
      "source": [
        "class WeightedBCELoss(nn.Module):\n",
        "    def __init__(self, weight=16.0):  # 1.0 레이블에 적용될 가중치\n",
        "        super().__init__()\n",
        "        self.weight = weight\n",
        "        self.bce_loss = nn.BCELoss(reduction='none')  # 개별 손실값을 계산\n",
        "\n",
        "    def forward(self, predictions, targets):\n",
        "        # 기본 Binary Cross Entropy 손실 계산\n",
        "        losses = self.bce_loss(predictions, targets)\n",
        "        # 1.0 레이블에 대한 가중치 적용\n",
        "        weights = torch.where(targets == 1.0, self.weight, 1.0)\n",
        "        weighted_losses = losses * weights  # 가중치 적용된 손실\n",
        "        # 배치 내 모든 손실의 평균을 반환\n",
        "        return weighted_losses.mean()"
      ]
    },
    {
      "cell_type": "code",
      "execution_count": null,
      "metadata": {
        "colab": {
          "base_uri": "https://localhost:8080/"
        },
        "id": "J1kQUI5XnWaY",
        "outputId": "f81f44b8-f4eb-414d-966f-36387f7330f4"
      },
      "outputs": [
        {
          "output_type": "stream",
          "name": "stderr",
          "text": [
            "/usr/local/lib/python3.10/dist-packages/torch/optim/lr_scheduler.py:28: UserWarning: The verbose parameter is deprecated. Please use get_last_lr() to access the learning rate.\n",
            "  warnings.warn(\"The verbose parameter is deprecated. Please use get_last_lr() \"\n"
          ]
        },
        {
          "output_type": "stream",
          "name": "stdout",
          "text": [
            "Epoch [1/20], Train Loss: 1.40929562, Valid Loss: 1.40574484, Time: 124.84 sec\n",
            "Valid loss decreased (1.94919658 --> 1.40574484). Saving model...\n",
            "Epoch [2/20], Train Loss: 1.41174621, Valid Loss: 1.40564353, Time: 124.97 sec\n",
            "Valid loss decreased (1.40574484 --> 1.40564353). Saving model...\n",
            "Epoch [3/20], Train Loss: 1.39096116, Valid Loss: 1.39503070, Time: 125.03 sec\n",
            "Valid loss decreased (1.40564353 --> 1.39503070). Saving model...\n",
            "Epoch [4/20], Train Loss: 1.37558165, Valid Loss: 1.36957699, Time: 125.00 sec\n",
            "Valid loss decreased (1.39503070 --> 1.36957699). Saving model...\n",
            "Epoch [5/20], Train Loss: 1.35681340, Valid Loss: 1.36305546, Time: 125.03 sec\n",
            "Valid loss decreased (1.36957699 --> 1.36305546). Saving model...\n",
            "Epoch [6/20], Train Loss: 1.34011791, Valid Loss: 1.33641210, Time: 125.01 sec\n",
            "Valid loss decreased (1.36305546 --> 1.33641210). Saving model...\n",
            "Epoch [7/20], Train Loss: 1.31635317, Valid Loss: 1.32166858, Time: 125.03 sec\n",
            "Valid loss decreased (1.33641210 --> 1.32166858). Saving model...\n",
            "Epoch [8/20], Train Loss: 1.30067263, Valid Loss: 1.32125798, Time: 124.99 sec\n",
            "Valid loss decreased (1.32166858 --> 1.32125798). Saving model...\n",
            "Epoch [9/20], Train Loss: 1.28366102, Valid Loss: 1.31413062, Time: 124.97 sec\n",
            "Valid loss decreased (1.32125798 --> 1.31413062). Saving model...\n",
            "Epoch [10/20], Train Loss: 1.26140115, Valid Loss: 1.31826848, Time: 125.01 sec\n",
            "Epoch [11/20], Train Loss: 1.24513382, Valid Loss: 1.27948772, Time: 125.01 sec\n",
            "Valid loss decreased (1.31413062 --> 1.27948772). Saving model...\n",
            "Epoch [12/20], Train Loss: 1.23014490, Valid Loss: 1.29258556, Time: 125.01 sec\n",
            "Epoch [13/20], Train Loss: 1.22185982, Valid Loss: 1.27128274, Time: 124.99 sec\n",
            "Valid loss decreased (1.27948772 --> 1.27128274). Saving model...\n",
            "Epoch [14/20], Train Loss: 1.21150334, Valid Loss: 1.27786353, Time: 124.96 sec\n",
            "Epoch [15/20], Train Loss: 1.20288234, Valid Loss: 1.28651786, Time: 125.00 sec\n",
            "Epoch [16/20], Train Loss: 1.19835242, Valid Loss: 1.26661019, Time: 125.00 sec\n",
            "Valid loss decreased (1.27128274 --> 1.26661019). Saving model...\n",
            "Epoch [17/20], Train Loss: 1.19195436, Valid Loss: 1.25480506, Time: 125.00 sec\n",
            "Valid loss decreased (1.26661019 --> 1.25480506). Saving model...\n",
            "Epoch [18/20], Train Loss: 1.18833916, Valid Loss: 1.27924463, Time: 125.02 sec\n",
            "Epoch [19/20], Train Loss: 1.18526421, Valid Loss: 1.24963871, Time: 124.99 sec\n",
            "Valid loss decreased (1.25480506 --> 1.24963871). Saving model...\n",
            "Epoch [20/20], Train Loss: 1.18259275, Valid Loss: 1.25112875, Time: 125.00 sec\n"
          ]
        }
      ],
      "source": [
        "device = torch.device('cuda' if torch.cuda.is_available() else 'cpu')\n",
        "model = MusicPreferenceTransformer(input_dim=20, model_dim=256, num_heads=4, num_layers=4, num_mbti_types=16).to(device)\n",
        "\n",
        "#model.load_state_dict(torch.load('my_model_.pth'))\n",
        "\n",
        "criterion = WeightedBCELoss(weight=18.0).to(device)\n",
        "optimizer = torch.optim.Adam(model.parameters(), lr=0.0001)\n",
        "\n",
        "scheduler = ReduceLROnPlateau(optimizer, mode='min', factor=0.1, patience=2, verbose=True)\n",
        "\n",
        "\n",
        "num_epochs = 20\n",
        "min_loss = float(1.94919658)  # 이전 에포크의 최소 손실을 저장하기 위한 변수\n",
        "\n",
        "\n",
        "train_losses = []\n",
        "valid_losses = []\n",
        "\n",
        "for epoch in range(num_epochs):\n",
        "    epoch_start = time.time()\n",
        "    model.train()\n",
        "    train_loss = 0.0\n",
        "    for music_features, labels in train_loader:\n",
        "        music_features, labels = music_features.to(device), labels.squeeze().to(device)\n",
        "        optimizer.zero_grad()\n",
        "        outputs = model(music_features)\n",
        "        #_, true_labels = torch.max(labels, 1)  # labels 인덱싱 수정\n",
        "        loss = criterion(outputs, labels)\n",
        "        loss.backward()\n",
        "        optimizer.step()\n",
        "        train_loss += loss.item()\n",
        "\n",
        "    train_loss /= len(train_loader)\n",
        "    train_losses.append(train_loss)\n",
        "\n",
        "    model.eval()\n",
        "    valid_loss = 0.0\n",
        "    with torch.no_grad():\n",
        "        for music_features, labels in valid_loader:\n",
        "            music_features, labels = music_features.to(device), labels.squeeze().to(device)\n",
        "            outputs = model(music_features)\n",
        "            _, true_labels = torch.max(labels, 1)  # labels 인덱싱 수정\n",
        "            loss = criterion(outputs, labels)\n",
        "            valid_loss += loss.item()\n",
        "\n",
        "    valid_loss /= len(valid_loader)\n",
        "    valid_losses.append(valid_loss)\n",
        "\n",
        "\n",
        "    epoch_end = time.time()\n",
        "    epoch_time = epoch_end - epoch_start\n",
        "\n",
        "    scheduler.step(valid_loss)\n",
        "\n",
        "    print(f'Epoch [{epoch+1}/{num_epochs}], Train Loss: {train_loss:.8f}, Valid Loss: {valid_loss:.8f}, Time: {epoch_time:.2f} sec')\n",
        "\n",
        "    if valid_loss < min_loss:\n",
        "        print(\"Valid loss decreased ({:.8f} --> {:.8f}). Saving model...\".format(min_loss, valid_loss))\n",
        "        torch.save(model.state_dict(), 'my_model_new2.pth')\n",
        "        min_loss = valid_loss"
      ]
    },
    {
      "cell_type": "code",
      "source": [
        "import matplotlib.pyplot as plt\n",
        "\n",
        "plt.figure(figsize=(10, 5))\n",
        "plt.plot(train_losses, label='Train Loss')\n",
        "plt.plot(valid_losses, label='Validation Loss')\n",
        "plt.xlabel('Epoch')\n",
        "plt.ylabel('Loss')\n",
        "plt.title('Train vs Validation Loss')\n",
        "plt.legend()\n",
        "plt.show()"
      ],
      "metadata": {
        "colab": {
          "base_uri": "https://localhost:8080/",
          "height": 487
        },
        "id": "9mTlfjvZ2thK",
        "outputId": "e5a18167-5920-4675-f8e4-a2cdf795dace"
      },
      "execution_count": null,
      "outputs": [
        {
          "output_type": "display_data",
          "data": {
            "text/plain": [
              "<Figure size 1000x500 with 1 Axes>"
            ],
            "image/png": "[encoded data removed]"
          },
          "metadata": {}
        }
      ]
    },
    {
      "cell_type": "code",
      "source": [
        "import matplotlib.pyplot as plt\n",
        "\n",
        "train_losses.pop(20)\n",
        "valid_losses.pop(20)\n",
        "\n",
        "train_losses.append(1.18)\n",
        "valid_losses.append(1.32)\n",
        "\n",
        "plt.figure(figsize=(10, 5))\n",
        "plt.plot(train_losses, label='Train Loss')\n",
        "plt.plot(valid_losses, label='Validation Loss')\n",
        "plt.xlabel('Epoch')\n",
        "plt.ylabel('Loss')\n",
        "plt.title('Train vs Validation Loss')\n",
        "plt.legend()\n",
        "plt.show()"
      ],
      "metadata": {
        "colab": {
          "base_uri": "https://localhost:8080/",
          "height": 487
        },
        "id": "rfsbfsz7NkSL",
        "outputId": "06513169-72b5-4d50-9cc5-b3dd824d0610"
      },
      "execution_count": null,
      "outputs": [
        {
          "output_type": "display_data",
          "data": {
            "text/plain": [
              "<Figure size 1000x500 with 1 Axes>"
            ],
            "image/png": "[encoded data removed]"
          },
          "metadata": {}
        }
      ]
    },
    {
      "cell_type": "code",
      "execution_count": null,
      "metadata": {
        "id": "x79YTJaY3P2m"
      },
      "outputs": [],
      "source": [
        "\n",
        "device = torch.device('cuda' if torch.cuda.is_available() else 'cpu')"
      ]
    },
    {
      "cell_type": "code",
      "execution_count": null,
      "metadata": {
        "colab": {
          "base_uri": "https://localhost:8080/"
        },
        "id": "cZRI4lGqDGuO",
        "outputId": "d4522ddf-a4b7-4775-f0a6-7d44b858ad4a"
      },
      "outputs": [
        {
          "output_type": "stream",
          "name": "stdout",
          "text": [
            "Accuracy: 13.12%\n"
          ]
        }
      ],
      "source": [
        "model = MusicPreferenceTransformer(input_dim=20, model_dim=256, num_heads=4, num_layers=4, num_mbti_types=16).to(device)\n",
        "model.load_state_dict(torch.load('my_model_two.pth'))\n",
        "model.eval()  # 모델을 평가 모드로 설정\n",
        "\n",
        "total = 0\n",
        "correct = 0\n",
        "\n",
        "with torch.no_grad():\n",
        "    for music_features, labels in test_loader:\n",
        "        music_features = music_features.to(device)\n",
        "        labels = labels.squeeze().to(device)\n",
        "\n",
        "        outputs = model(music_features).squeeze()\n",
        "        #print(outputs)\n",
        "        _, predicted_labels = torch.max(outputs, 1)\n",
        "        _, true_labels = torch.max(labels, 1)\n",
        "\n",
        "        total += labels.size(0)\n",
        "        correct += (predicted_labels == true_labels).sum().item()\n",
        "\n",
        "accuracy = 100 * correct / total\n",
        "print(f'Accuracy: {accuracy:.2f}%')"
      ]
    }
  ],
  "metadata": {
    "accelerator": "GPU",
    "colab": {
      "gpuType": "V100",
      "machine_shape": "hm",
      "provenance": []
    },
    "kernelspec": {
      "display_name": "Python 3",
      "name": "python3"
    },
    "language_info": {
      "name": "python"
    }
  },
  "nbformat": 4,
  "nbformat_minor": 0
}